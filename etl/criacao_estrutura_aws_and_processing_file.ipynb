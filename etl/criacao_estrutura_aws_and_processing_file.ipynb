{
 "cells": [
  {
   "cell_type": "code",
   "execution_count": 3,
   "metadata": {
    "collapsed": true
   },
   "outputs": [],
   "source": [
    "import csv\n",
    "import boto3\n",
    "import pandas"
   ]
  },
  {
   "cell_type": "code",
   "execution_count": null,
   "metadata": {
    "collapsed": true
   },
   "outputs": [],
   "source": [
    "#Conectando na aws no servico comprehend\n",
    "comprehend = boto3.client(\n",
    "    service_name='comprehend',\n",
    "    region_name='us-east-1',\n",
    "    aws_access_key_id='xxxxxxxxxx',\n",
    "    aws_secret_access_key='xxxxxxxxxx')"
   ]
  },
  {
   "cell_type": "code",
   "execution_count": null,
   "metadata": {
    "collapsed": true
   },
   "outputs": [],
   "source": [
    "#Abrindo arquivo com dados dos tweets minerados\n",
    "out = pandas.read_csv('output_got.csv')"
   ]
  },
  {
   "cell_type": "code",
   "execution_count": null,
   "metadata": {
    "collapsed": true
   },
   "outputs": [],
   "source": [
    "#Iterando em cada tweet e passando pela analise de sentimento adicionando uma coluna com o resultado\n",
    "for i in out.iterrows():\n",
    "    i[1]['sentiment'] = comprehend.detect_sentiment(Text=i[1]['text'], LanguageCode='pt')['Sentiment']"
   ]
  },
  {
   "cell_type": "code",
   "execution_count": null,
   "metadata": {
    "collapsed": true
   },
   "outputs": [],
   "source": [
    "#salvando o arquivo\n",
    "out.to_csv(r'tweets_analytics.csv',index=False, sep=',', header=True)"
   ]
  },
  {
   "cell_type": "code",
   "execution_count": 5,
   "metadata": {
    "collapsed": true
   },
   "outputs": [],
   "source": [
    "#Conectando no servico glue da aws\n",
    "glue = boto3.client(\n",
    "    service_name='glue',\n",
    "    region_name='us-east-1',\n",
    "    aws_access_key_id='xxxxxxxxxx',\n",
    "    aws_secret_access_key='xxxxxxxxxx')"
   ]
  },
  {
   "cell_type": "code",
   "execution_count": 8,
   "metadata": {
    "collapsed": true
   },
   "outputs": [
    {
     "data": {
      "text/plain": [
       "{'ResponseMetadata': {'RequestId': '82c8c790-f2a6-11e9-9134-dd719b0489d1',\n",
       "  'HTTPStatusCode': 200,\n",
       "  'HTTPHeaders': {'date': 'Sat, 19 Oct 2019 19:27:38 GMT',\n",
       "   'content-type': 'application/x-amz-json-1.1',\n",
       "   'content-length': '2',\n",
       "   'connection': 'keep-alive',\n",
       "   'x-amzn-requestid': '82c8c790-f2a6-11e9-9134-dd719b0489d1'},\n",
       "  'RetryAttempts': 0}}"
      ]
     },
     "execution_count": 8,
     "metadata": {},
     "output_type": "execute_result"
    }
   ],
   "source": [
    "#Criando database\n",
    "response = glue.create_database(\n",
    "    DatabaseInput={\n",
    "        'Name': 'Rebranding_Analysis',\n",
    "        'Description': 'Database to analysis rebranding impacts'          \n",
    "        }\n",
    ")"
   ]
  },
  {
   "cell_type": "code",
   "execution_count": 15,
   "metadata": {
    "collapsed": true
   },
   "outputs": [
    {
     "data": {
      "text/plain": [
       "{'ResponseMetadata': {'RequestId': 'b98529a9-f2a8-11e9-b9aa-dfb8dcdde954',\n",
       "  'HTTPStatusCode': 200,\n",
       "  'HTTPHeaders': {'date': 'Sat, 19 Oct 2019 19:43:29 GMT',\n",
       "   'content-type': 'application/x-amz-json-1.1',\n",
       "   'content-length': '2',\n",
       "   'connection': 'keep-alive',\n",
       "   'x-amzn-requestid': 'b98529a9-f2a8-11e9-b9aa-dfb8dcdde954'},\n",
       "  'RetryAttempts': 0}}"
      ]
     },
     "execution_count": 15,
     "metadata": {},
     "output_type": "execute_result"
    }
   ],
   "source": [
    "#Criando tabela analitica dos tweets\n",
    "response = glue.create_table(\n",
    "    DatabaseName='Rebranding_Analysis',\n",
    "    TableInput={\n",
    "        'Name': 'Twitter_Mentions',\n",
    "        'Description': 'string',        \n",
    "        'StorageDescriptor': {\n",
    "            'Columns': [\n",
    "                {\n",
    "                    'Name': 'date',\n",
    "                    'Type': 'string'\n",
    "                },\n",
    "                {\n",
    "                    'Name': 'username',\n",
    "                    'Type': 'string'    \n",
    "                },\n",
    "                {\n",
    "                    'Name': 'sentiment',\n",
    "                    'Type': 'string'    \n",
    "                },\n",
    "                {\n",
    "                    'Name': 'to',\n",
    "                    'Type': 'string'    \n",
    "                },\n",
    "                {\n",
    "                    'Name': 'replies',\n",
    "                    'Type': 'string'    \n",
    "                },\n",
    "                {\n",
    "                    'Name': 'retweets',\n",
    "                    'Type': 'string'    \n",
    "                },\n",
    "                {\n",
    "                    'Name': 'favorites',\n",
    "                    'Type': 'string'    \n",
    "                },\n",
    "                {\n",
    "                    'Name': 'text',\n",
    "                    'Type': 'string'    \n",
    "                },\n",
    "                {\n",
    "                    'Name': 'geo',\n",
    "                    'Type': 'string'    \n",
    "                },\n",
    "                {\n",
    "                    'Name': 'hashtags',\n",
    "                    'Type': 'string'    \n",
    "                },\n",
    "                {\n",
    "                    'Name': 'id',\n",
    "                    'Type': 'string'    \n",
    "                },\n",
    "                {\n",
    "                    'Name': 'permalink',\n",
    "                    'Type': 'string'    \n",
    "                } \n",
    "            ],\n",
    "            'Location': 's3://pucminas-tcc/Tweets-analytics/',\n",
    "            'InputFormat': 'org.apache.hadoop.mapred.TextInputFormat',\n",
    "            'OutputFormat': 'org.apache.hadoop.hive.ql.io.HiveIgnoreKeyTextOutputFormat',\n",
    "            'SerdeInfo': {\n",
    "                'SerializationLibrary': 'org.apache.hadoop.hive.serde2.lazy.LazySimpleSerDe',\n",
    "                'Parameters': {\n",
    "                    'field.delim': ','\n",
    "                }\n",
    "            },   \n",
    "            'Compressed': False\n",
    "        },       \n",
    "        'Parameters': {\n",
    "            'skip.header.line.count': '1'\n",
    "        }\n",
    "    }\n",
    ")"
   ]
  },
  {
   "cell_type": "code",
   "execution_count": null,
   "metadata": {
    "collapsed": true
   },
   "outputs": [],
   "source": [
    "#Criando tabela para o wordcloud\n",
    "response = glue.create_table(\n",
    "    DatabaseName='Rebranding_Analysis',\n",
    "    TableInput={\n",
    "        'Name': 'Words',\n",
    "        'Description': 'string',        \n",
    "        'StorageDescriptor': {\n",
    "            'Columns': [\n",
    "                {\n",
    "                    'Name': 'Words',\n",
    "                    'Type': 'string'\n",
    "                }\n",
    "            ],\n",
    "            'Location': 's3://pucminas-tcc/Wordcloud/',\n",
    "            'InputFormat': 'org.apache.hadoop.mapred.TextInputFormat',\n",
    "            'OutputFormat': 'org.apache.hadoop.hive.ql.io.HiveIgnoreKeyTextOutputFormat',\n",
    "            'SerdeInfo': {\n",
    "                'SerializationLibrary': 'org.apache.hadoop.hive.serde2.lazy.LazySimpleSerDe',\n",
    "                'Parameters': {\n",
    "                    'field.delim': ','\n",
    "                }\n",
    "            },   \n",
    "            'Compressed': False\n",
    "        },       \n",
    "        'Parameters': {\n",
    "            'skip.header.line.count': '1'\n",
    "        }\n",
    "    }\n",
    ")"
   ]
  },
  {
   "cell_type": "code",
   "execution_count": 7,
   "metadata": {
    "collapsed": true
   },
   "outputs": [
    {
     "data": {
      "text/plain": [
       "{'TableList': [{'Name': 'raw_twitter_social_raw',\n",
       "   'DatabaseName': 'twitter-social',\n",
       "   'Owner': 'owner',\n",
       "   'CreateTime': datetime.datetime(2019, 10, 10, 17, 7, 48, tzinfo=tzlocal()),\n",
       "   'UpdateTime': datetime.datetime(2019, 10, 18, 15, 23, 12, tzinfo=tzlocal()),\n",
       "   'LastAccessTime': datetime.datetime(2019, 10, 10, 17, 7, 48, tzinfo=tzlocal()),\n",
       "   'Retention': 0,\n",
       "   'StorageDescriptor': {'Columns': [{'Name': 'date', 'Type': 'string'},\n",
       "     {'Name': 'username', 'Type': 'string'},\n",
       "     {'Name': 'sentiment', 'Type': 'string'},\n",
       "     {'Name': 'to', 'Type': 'string'},\n",
       "     {'Name': 'replies', 'Type': 'bigint'},\n",
       "     {'Name': 'retweets', 'Type': 'bigint'},\n",
       "     {'Name': 'favorites', 'Type': 'bigint'},\n",
       "     {'Name': 'text', 'Type': 'string'},\n",
       "     {'Name': 'geo', 'Type': 'string'},\n",
       "     {'Name': 'mentions', 'Type': 'string'},\n",
       "     {'Name': 'hashtags', 'Type': 'string'},\n",
       "     {'Name': 'id', 'Type': 'bigint'},\n",
       "     {'Name': 'permalink', 'Type': 'string'}],\n",
       "    'Location': 's3://twitter-social-raw/',\n",
       "    'InputFormat': 'org.apache.hadoop.mapred.TextInputFormat',\n",
       "    'OutputFormat': 'org.apache.hadoop.hive.ql.io.HiveIgnoreKeyTextOutputFormat',\n",
       "    'Compressed': False,\n",
       "    'NumberOfBuckets': -1,\n",
       "    'SerdeInfo': {'SerializationLibrary': 'org.apache.hadoop.hive.serde2.lazy.LazySimpleSerDe',\n",
       "     'Parameters': {'field.delim': ','}},\n",
       "    'BucketColumns': [],\n",
       "    'SortColumns': [],\n",
       "    'Parameters': {'CrawlerSchemaDeserializerVersion': '1.0',\n",
       "     'CrawlerSchemaSerializerVersion': '1.0',\n",
       "     'UPDATED_BY_CRAWLER': 'twitter-social',\n",
       "     'areColumnsQuoted': 'false',\n",
       "     'averageRecordSize': '191',\n",
       "     'classification': 'csv',\n",
       "     'columnsOrdered': 'true',\n",
       "     'compressionType': 'none',\n",
       "     'delimiter': ',',\n",
       "     'objectCount': '1',\n",
       "     'recordCount': '33259',\n",
       "     'sizeKey': '6352616',\n",
       "     'skip.header.line.count': '1',\n",
       "     'typeOfData': 'file'},\n",
       "    'StoredAsSubDirectories': False},\n",
       "   'PartitionKeys': [],\n",
       "   'TableType': 'EXTERNAL_TABLE',\n",
       "   'Parameters': {'CrawlerSchemaDeserializerVersion': '1.0',\n",
       "    'CrawlerSchemaSerializerVersion': '1.0',\n",
       "    'UPDATED_BY_CRAWLER': 'twitter-social',\n",
       "    'areColumnsQuoted': 'false',\n",
       "    'averageRecordSize': '191',\n",
       "    'classification': 'csv',\n",
       "    'columnsOrdered': 'true',\n",
       "    'compressionType': 'none',\n",
       "    'delimiter': ',',\n",
       "    'objectCount': '1',\n",
       "    'recordCount': '33259',\n",
       "    'sizeKey': '6352616',\n",
       "    'skip.header.line.count': '1',\n",
       "    'typeOfData': 'file'},\n",
       "   'IsRegisteredWithLakeFormation': False},\n",
       "  {'Name': 'words',\n",
       "   'DatabaseName': 'twitter-social',\n",
       "   'CreateTime': datetime.datetime(2019, 10, 18, 17, 52, 36, tzinfo=tzlocal()),\n",
       "   'UpdateTime': datetime.datetime(2019, 10, 18, 17, 53, 49, tzinfo=tzlocal()),\n",
       "   'Retention': 0,\n",
       "   'StorageDescriptor': {'Columns': [{'Name': 'words', 'Type': 'string'}],\n",
       "    'Location': 's3://glaucia-raw/tcc/wordcloud/',\n",
       "    'InputFormat': 'org.apache.hadoop.mapred.TextInputFormat',\n",
       "    'OutputFormat': 'org.apache.hadoop.hive.ql.io.HiveIgnoreKeyTextOutputFormat',\n",
       "    'Compressed': False,\n",
       "    'NumberOfBuckets': 0,\n",
       "    'SerdeInfo': {'SerializationLibrary': 'org.apache.hadoop.hive.serde2.OpenCSVSerde',\n",
       "     'Parameters': {'separatorChar': ','}},\n",
       "    'SortColumns': [],\n",
       "    'StoredAsSubDirectories': False},\n",
       "   'PartitionKeys': [],\n",
       "   'TableType': 'EXTERNAL_TABLE',\n",
       "   'Parameters': {'classification': 'csv', 'skip.header.line.count': '1'},\n",
       "   'IsRegisteredWithLakeFormation': False}],\n",
       " 'ResponseMetadata': {'RequestId': '6e3153b9-f2a6-11e9-8c2c-2bb74b64bac3',\n",
       "  'HTTPStatusCode': 200,\n",
       "  'HTTPHeaders': {'date': 'Sat, 19 Oct 2019 19:27:03 GMT',\n",
       "   'content-type': 'application/x-amz-json-1.1',\n",
       "   'content-length': '2647',\n",
       "   'connection': 'keep-alive',\n",
       "   'x-amzn-requestid': '6e3153b9-f2a6-11e9-8c2c-2bb74b64bac3'},\n",
       "  'RetryAttempts': 0}}"
      ]
     },
     "execution_count": 7,
     "metadata": {},
     "output_type": "execute_result"
    }
   ],
   "source": [
    "response = glue.get_tables(\n",
    "    DatabaseName='twitter-social'    \n",
    ")\n",
    "response"
   ]
  },
  {
   "cell_type": "code",
   "execution_count": 17,
   "metadata": {
    "collapsed": true
   },
   "outputs": [],
   "source": [
    "#Conectando no servico de armazenamento s3\n",
    "s3 = boto3.client(\n",
    "    service_name='s3',\n",
    "    region_name='us-east-1',\n",
    "    aws_access_key_id='xxxxxxxxxx',\n",
    "    aws_secret_access_key='xxxxxxxxxx')"
   ]
  },
  {
   "cell_type": "code",
   "execution_count": 20,
   "metadata": {
    "collapsed": true
   },
   "outputs": [],
   "source": [
    "#fazendo upload do arquivo para o s3\n",
    "fileName = 'tweets_analytics.csv'\n",
    "s3.upload_file(fileName,'pucminas-tcc','{}/{}'.format('Tweets-analytics',fileName)) "
   ]
  },
  {
   "cell_type": "code",
   "execution_count": null,
   "metadata": {
    "collapsed": true
   },
   "outputs": [],
   "source": [
    "#Iniciando operacao para geracao do wordcloud\n",
    "from nltk.corpus import stopwords\n",
    "from nltk import word_tokenize\n",
    "from collections import Counter\n",
    "from string import punctuation"
   ]
  },
  {
   "cell_type": "code",
   "execution_count": null,
   "metadata": {
    "collapsed": true
   },
   "outputs": [],
   "source": [
    "#Criando lista com palavras de ligacao para serem removidas e pontuacoes\n",
    "stoplist = set(stopwords.words('portuguese') + list(punctuation))"
   ]
  },
  {
   "cell_type": "code",
   "execution_count": null,
   "metadata": {
    "collapsed": true
   },
   "outputs": [],
   "source": [
    "#Sbrindo arquivo\n",
    "data = pandas.read_csv('output_got.csv')"
   ]
  },
  {
   "cell_type": "code",
   "execution_count": null,
   "metadata": {
    "collapsed": true
   },
   "outputs": [],
   "source": []
  },
  {
   "cell_type": "code",
   "execution_count": null,
   "metadata": {
    "collapsed": true
   },
   "outputs": [],
   "source": [
    "#Realizando tratamento do texto para nao ter problemas na tokenizacao\n",
    "texts = data['text'].str.lower()\n",
    "texts = texts.str.replace('[^A-z ]','').str.replace(' +',' ').str.strip()"
   ]
  },
  {
   "cell_type": "code",
   "execution_count": null,
   "metadata": {
    "collapsed": true
   },
   "outputs": [],
   "source": [
    "#Separando o texto em palavras\n",
    "words = word_tokenize(str(texts))"
   ]
  },
  {
   "cell_type": "code",
   "execution_count": null,
   "metadata": {
    "collapsed": true
   },
   "outputs": [],
   "source": [
    "#Realizando filtro de ligacoes e pontuacoes\n",
    "wordsFiltered = []\n",
    "\n",
    "for w in words:\n",
    "    if w not in stoplist:\n",
    "        wordsFiltered.append(w)"
   ]
  },
  {
   "cell_type": "code",
   "execution_count": null,
   "metadata": {
    "collapsed": true
   },
   "outputs": [],
   "source": [
    "#Realizando analise de contagem\n",
    "words_count = Counter(wordsFiltered)\n",
    "words_count"
   ]
  },
  {
   "cell_type": "code",
   "execution_count": null,
   "metadata": {
    "collapsed": true
   },
   "outputs": [],
   "source": [
    "#Criando dataframe para analise\n",
    "df = pd.DataFrame(wordsFiltered,columns =['Words'])\n",
    "df"
   ]
  },
  {
   "cell_type": "code",
   "execution_count": null,
   "metadata": {
    "collapsed": true
   },
   "outputs": [],
   "source": [
    "#Exportando dataframe para csv\n",
    "df.to_csv(r'words.csv',index=False, sep=',')"
   ]
  },
  {
   "cell_type": "code",
   "execution_count": null,
   "metadata": {},
   "outputs": [],
   "source": [
    "#Realizando upload para o S3 da aws\n",
    "fileName = 'words.csv'\n",
    "s3.upload_file(fileName,'pucminas-tcc','{}/{}'.format('Wordcloud',fileName)) "
   ]
  }
 ],
 "metadata": {
  "kernelspec": {
   "display_name": "Python 3",
   "language": "python",
   "name": "python3"
  },
  "language_info": {
   "codemirror_mode": {
    "name": "ipython",
    "version": 3
   },
   "file_extension": ".py",
   "mimetype": "text/x-python",
   "name": "python",
   "nbconvert_exporter": "python",
   "pygments_lexer": "ipython3",
   "version": "3.7.5"
  }
 },
 "nbformat": 4,
 "nbformat_minor": 2
}
